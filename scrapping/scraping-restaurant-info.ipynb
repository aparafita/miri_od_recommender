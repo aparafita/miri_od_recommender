{
 "cells": [
  {
   "cell_type": "code",
   "execution_count": 1,
   "metadata": {
    "collapsed": true
   },
   "outputs": [],
   "source": [
    "import time\n",
    "import json\n",
    "from random import random\n",
    "\n",
    "import selenium\n",
    "import selenium.webdriver\n",
    "\n",
    "from selenium.common.exceptions import NoSuchElementException"
   ]
  },
  {
   "cell_type": "code",
   "execution_count": 2,
   "metadata": {
    "collapsed": true
   },
   "outputs": [],
   "source": [
    "ff = selenium.webdriver.Chrome('/Users/alvaro.parafita/chromedriver')\n",
    "ff.set_page_load_timeout(15)"
   ]
  },
  {
   "cell_type": "markdown",
   "metadata": {},
   "source": [
    "# Scraping"
   ]
  },
  {
   "cell_type": "code",
   "execution_count": 3,
   "metadata": {
    "collapsed": true
   },
   "outputs": [],
   "source": [
    "with open('restaurants.json') as f:\n",
    "    restaurants = json.loads(f.read())"
   ]
  },
  {
   "cell_type": "code",
   "execution_count": 7,
   "metadata": {
    "collapsed": true
   },
   "outputs": [],
   "source": [
    "for k, v in restaurants.items():\n",
    "    if v['name'] == 'Estrella del Norte':\n",
    "        break        "
   ]
  },
  {
   "cell_type": "code",
   "execution_count": 8,
   "metadata": {
    "collapsed": false
   },
   "outputs": [
    {
     "data": {
      "text/plain": [
       "{'href': 'https://www.tripadvisor.com/Restaurant_Review-g187497-d11929124-Reviews-Estrella_del_Norte-Barcelona_Catalonia.html',\n",
       " 'name': 'Estrella del Norte'}"
      ]
     },
     "execution_count": 8,
     "metadata": {},
     "output_type": "execute_result"
    }
   ],
   "source": [
    "v"
   ]
  },
  {
   "cell_type": "code",
   "execution_count": 160,
   "metadata": {
    "collapsed": true
   },
   "outputs": [],
   "source": [
    "try:\n",
    "    with open('restaurants_data.json') as f:\n",
    "        restaurants_data = json.loads(f.read())\n",
    "except FileNotFoundError:\n",
    "    restaurants_data = {}"
   ]
  },
  {
   "cell_type": "code",
   "execution_count": 167,
   "metadata": {
    "collapsed": true
   },
   "outputs": [],
   "source": [
    "def download_data(href):\n",
    "    ff.get(href) # load the webpage\n",
    "    \n",
    "    data = { 'href': href }\n",
    "    \n",
    "    data['name'] = ff.find_element_by_xpath(\n",
    "        '//h1[@property=\"name\"]'\n",
    "    ).text\n",
    "    \n",
    "    # Restaurant rating\n",
    "    data['rating'] = float(\n",
    "        ff.find_element_by_xpath(\n",
    "            '//div[contains(@class, \"rating\")]/span/img'\n",
    "        ).get_attribute('content')\n",
    "    )\n",
    "    \n",
    "    # Street address\n",
    "    address = {}\n",
    "    for attr, name in (\n",
    "        ('class', 'street-address'), \n",
    "        ('property', 'postalCode'),\n",
    "        ('property', 'addressLocality'),\n",
    "        ('property', 'addressCountry')\n",
    "    ):\n",
    "        try:\n",
    "            address[name] = ff.find_element_by_xpath(\n",
    "                '//span[@{attr}=\"{name}\"]'.format(\n",
    "                    attr=attr, name=name\n",
    "                )\n",
    "            ).text\n",
    "        except NoSuchElementException:\n",
    "            address[name] = None\n",
    "        \n",
    "    data['street_address'] = address\n",
    "    \n",
    "    # Location\n",
    "    data['gmaps_uri'] = ff.find_element_by_xpath(\n",
    "        '//img[contains(@src, \"maps.google.com\")]'\n",
    "    ).get_attribute('src')\n",
    "    \n",
    "    # Reviews data\n",
    "    \n",
    "    # In order to extract data from ALL reviews,\n",
    "    # we need to click on the \"All languages\" radio button first.\n",
    "    ff.find_element_by_xpath(\n",
    "        '//div[contains(@class, \"language\")]//input[@value=\"ALL\"]'\n",
    "    ).click()\n",
    "    \n",
    "    time.sleep(3) # it's necessary to let it load again\n",
    "    \n",
    "    # Then, extract reviews data\n",
    "    data['reviews'] = {\n",
    "        'reviews': {\n",
    "            rating.find_element_by_xpath(\n",
    "                r'.//div[@class=\"row_label\"]'\n",
    "            ).text: int(\n",
    "                rating.find_element_by_xpath(r'.//span[2]').text\n",
    "            )\n",
    "\n",
    "            for rating in ff.find_elements_by_xpath(\n",
    "                r'//div[@id=\"ratingFilter\"]/ul//li'\n",
    "            )\n",
    "        }\n",
    "    }\n",
    "    \n",
    "    data['reviews'].update(\n",
    "        {\n",
    "            category.find_element_by_xpath(\n",
    "                r'./div[@class=\"colTitle\"]'\n",
    "            ).text: [\n",
    "                item.text.strip()\n",
    "                for item in category\\\n",
    "                    .find_elements_by_xpath(r'./ul/li/label')\n",
    "            ]\n",
    "\n",
    "            for cat, category in (\n",
    "                (\n",
    "                    cat, \n",
    "                    ff.find_element_by_xpath(\n",
    "                        r'//div[contains(@class, \"%s\")]' % cat\n",
    "                    )\n",
    "                )\n",
    "\n",
    "                for cat in ('segment', 'season', 'language')\n",
    "            )\n",
    "        }\n",
    "    )\n",
    "    \n",
    "    # Phone number\n",
    "    try:\n",
    "        data['phone'] = ff.find_element_by_xpath(\n",
    "            '//div[contains(@class, \"phoneNumber\")]'\n",
    "        ).text\n",
    "    except NoSuchElementException:\n",
    "        data['phone'] = None\n",
    "        \n",
    "    # Detailed ratings (with subcategories)\n",
    "    data['detailed_ratings'] = {\n",
    "        row.find_element_by_xpath(\n",
    "            './div[contains(@class, \"label\")]/span'\n",
    "        ).text: (\n",
    "            list(\n",
    "                map(\n",
    "                    lambda x: x.get_attribute('alt'), \n",
    "                    row.find_elements_by_xpath(\n",
    "                        './/span[contains(@class, \"rate\")]/img'\n",
    "                    )\n",
    "                )\n",
    "            ) or [None]\n",
    "        )\n",
    "\n",
    "\n",
    "        for row in ff.find_elements_by_xpath(\n",
    "            '//div[contains(@class, \"ratingRow\")]'\n",
    "        )\n",
    "    }\n",
    "    \n",
    "    # Extra details\n",
    "    data['extra'] = {}\n",
    "    \n",
    "    for row in ff.find_elements_by_xpath(\n",
    "        '//div[@class=\"table_section\"]//div[@class=\"row\"]'\n",
    "    ):\n",
    "        try:\n",
    "            data['extra'][\n",
    "                row.find_element_by_xpath(\n",
    "                    './div[contains(@class, \"title\")]'\n",
    "                ).text\n",
    "            ] = row.find_element_by_xpath(\n",
    "                './div[contains(@class, \"content\")]'\n",
    "            ).text\n",
    "        except NoSuchElementException:\n",
    "            continue\n",
    "\n",
    "    data['additional_info'] = list(\n",
    "        map(\n",
    "            lambda x: x.text, \n",
    "            ff.find_elements_by_xpath(\n",
    "                '//div[contains(@class, \"additional_info\")]'\n",
    "                '//ul[contains(@class, \"detailsContent\")]'\n",
    "                '/li/div'\n",
    "            )\n",
    "        )\n",
    "    )\n",
    "    \n",
    "    return data"
   ]
  },
  {
   "cell_type": "code",
   "execution_count": 170,
   "metadata": {
    "collapsed": false
   },
   "outputs": [
    {
     "name": "stdout",
     "output_type": "stream",
     "text": [
      "No Se?\n",
      "Sabores Sushi et Lounge Bar\n",
      "Acces\n"
     ]
    }
   ],
   "source": [
    "try:\n",
    "    for k, d in restaurants.items():\n",
    "        if k in restaurants_data: continue\n",
    "\n",
    "        print(d['name'])\n",
    "        restaurants_data[k] = download_data(d['href'])\n",
    "        time.sleep(random() * 2 + 1) # delay between 1 and 3 seconds\n",
    "except KeyboardInterrupt:\n",
    "    print('Interrupted')\n",
    "    raise\n",
    "finally:\n",
    "    with open('restaurants_data.json', 'w') as f:\n",
    "        f.write(json.dumps(restaurants_data, indent=2))"
   ]
  }
 ],
 "metadata": {
  "anaconda-cloud": {},
  "kernelspec": {
   "display_name": "Python [Root]",
   "language": "python",
   "name": "Python [Root]"
  },
  "language_info": {
   "codemirror_mode": {
    "name": "ipython",
    "version": 3
   },
   "file_extension": ".py",
   "mimetype": "text/x-python",
   "name": "python",
   "nbconvert_exporter": "python",
   "pygments_lexer": "ipython3",
   "version": "3.5.2"
  }
 },
 "nbformat": 4,
 "nbformat_minor": 0
}
