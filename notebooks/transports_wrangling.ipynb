{
 "cells": [
  {
   "cell_type": "code",
   "execution_count": 24,
   "metadata": {
    "collapsed": true
   },
   "outputs": [],
   "source": [
    "from domino.utils.jupyter import notebook_init\n",
    "notebook_init()"
   ]
  },
  {
   "cell_type": "code",
   "execution_count": 25,
   "metadata": {
    "collapsed": true
   },
   "outputs": [],
   "source": [
    "import os.path\n",
    "import re\n",
    "\n",
    "import pandas as pd\n",
    "np = pd.np\n",
    "\n",
    "% matplotlib inline\n",
    "import matplotlib.pyplot as plt\n",
    "import seaborn as sns"
   ]
  },
  {
   "cell_type": "code",
   "execution_count": 26,
   "metadata": {
    "collapsed": true
   },
   "outputs": [],
   "source": [
    "path = lambda filename, sep='/': os.path.join(*filename.split(sep))"
   ]
  },
  {
   "cell_type": "markdown",
   "metadata": {},
   "source": [
    "This file is very malformed. <br/>\n",
    "Commas are used as decimal separator, but in those cases, <br />\n",
    "the fields are not delimited by the quotechar.\n",
    "\n",
    "As a result, in almost all rows the number of columns is not right"
   ]
  },
  {
   "cell_type": "code",
   "execution_count": 27,
   "metadata": {
    "collapsed": false
   },
   "outputs": [],
   "source": [
    "columns = pd.read_csv(path('data/transports_original.csv'), encoding='unicode_escape', nrows=0)\n",
    "columns = columns.iloc[:, :16].columns"
   ]
  },
  {
   "cell_type": "code",
   "execution_count": 28,
   "metadata": {
    "collapsed": false
   },
   "outputs": [],
   "source": [
    "df = pd.read_csv(path('data/transports_original.csv'), encoding='unicode_escape', header=None, skiprows=1)"
   ]
  },
  {
   "cell_type": "code",
   "execution_count": 29,
   "metadata": {
    "collapsed": false
   },
   "outputs": [
    {
     "data": {
      "text/plain": [
       "Index(['CODI_CAPA', 'CAPA_GENERICA', 'NOM_CAPA', 'ED50_COORD_X',\n",
       "       'ED50_COORD_Y', 'ETRS89_COORD_X', 'ETRS89_COORD_Y', 'LONGITUD',\n",
       "       'LATITUD', 'EQUIPAMENT', 'DISTRICTE', 'BARRI', 'NOM_DISTRICTE',\n",
       "       'NOM_BARRI', 'ADRECA', 'TELEFON'],\n",
       "      dtype='object')"
      ]
     },
     "execution_count": 29,
     "metadata": {},
     "output_type": "execute_result"
    }
   ],
   "source": [
    "columns"
   ]
  },
  {
   "cell_type": "code",
   "execution_count": 30,
   "metadata": {
    "collapsed": false
   },
   "outputs": [],
   "source": [
    "def correct_coordinates(row):\n",
    "    try:\n",
    "        return pd.Series(\n",
    "            {\n",
    "                col: float(\n",
    "                    '%s.%s' % (row.iloc[2*n], row.iloc[2*n + 1])\n",
    "                )\n",
    "                for n, col in enumerate(columns[3:9])\n",
    "            }\n",
    "        )\n",
    "    except:\n",
    "        return pd.Series({})\n",
    "    \n",
    "coords = df.iloc[:, 3:15].apply(\n",
    "    correct_coordinates,\n",
    "    axis=1\n",
    ")\n",
    "\n",
    "del correct_coordinates"
   ]
  },
  {
   "cell_type": "code",
   "execution_count": 31,
   "metadata": {
    "collapsed": false
   },
   "outputs": [
    {
     "data": {
      "text/plain": [
       "(7, 660)"
      ]
     },
     "execution_count": 31,
     "metadata": {},
     "output_type": "execute_result"
    }
   ],
   "source": [
    "coords.isnull().any(axis=1).sum(), len(coords)"
   ]
  },
  {
   "cell_type": "code",
   "execution_count": 32,
   "metadata": {
    "collapsed": false
   },
   "outputs": [],
   "source": [
    "# There are some errors, but those are imposible to treat right, \n",
    "# since we don't know which of the 6 coordinates is the wrong one.\n",
    "# We'll omit those\n",
    "df = df[~coords.isnull().any(axis=1)].copy()\n",
    "coords = coords[~coords.isnull().any(axis=1)]"
   ]
  },
  {
   "cell_type": "code",
   "execution_count": 33,
   "metadata": {
    "collapsed": false
   },
   "outputs": [],
   "source": [
    "# Add coords to df\n",
    "df = df.drop(range(3, 15), axis=1)\n",
    "df = pd.concat([df, coords], axis=1)\n",
    "df = df[list(range(3)) + list(coords.columns) + list(range(15, 22))]\n",
    "df.columns = columns"
   ]
  },
  {
   "cell_type": "code",
   "execution_count": 34,
   "metadata": {
    "collapsed": true
   },
   "outputs": [],
   "source": [
    "# Omit NOM_CAPA and sort columns\n",
    "df = df[\n",
    "    ['LATITUD', 'LONGITUD', 'EQUIPAMENT', 'DISTRICTE', 'BARRI', 'NOM_DISTRICTE', 'NOM_BARRI']\n",
    "]"
   ]
  },
  {
   "cell_type": "code",
   "execution_count": 35,
   "metadata": {
    "collapsed": false
   },
   "outputs": [
    {
     "data": {
      "text/html": [
       "<div>\n",
       "<table border=\"1\" class=\"dataframe\">\n",
       "  <thead>\n",
       "    <tr style=\"text-align: right;\">\n",
       "      <th></th>\n",
       "      <th>type</th>\n",
       "      <th>line</th>\n",
       "      <th>name</th>\n",
       "      <th>exit</th>\n",
       "    </tr>\n",
       "  </thead>\n",
       "  <tbody>\n",
       "    <tr>\n",
       "      <th>0</th>\n",
       "      <td>METRO</td>\n",
       "      <td>L1</td>\n",
       "      <td>SANTA COLOMA</td>\n",
       "      <td>NaN</td>\n",
       "    </tr>\n",
       "    <tr>\n",
       "      <th>1</th>\n",
       "      <td>METRO</td>\n",
       "      <td>L1</td>\n",
       "      <td>SANTA COLOMA</td>\n",
       "      <td>NaN</td>\n",
       "    </tr>\n",
       "    <tr>\n",
       "      <th>2</th>\n",
       "      <td>METRO</td>\n",
       "      <td>L1</td>\n",
       "      <td>MARINA</td>\n",
       "      <td>Av. Meridiana</td>\n",
       "    </tr>\n",
       "    <tr>\n",
       "      <th>3</th>\n",
       "      <td>METRO</td>\n",
       "      <td>L1</td>\n",
       "      <td>FONDO</td>\n",
       "      <td>NaN</td>\n",
       "    </tr>\n",
       "    <tr>\n",
       "      <th>4</th>\n",
       "      <td>METRO</td>\n",
       "      <td>L1</td>\n",
       "      <td>MERCAT NOU</td>\n",
       "      <td>C. d'Antoni de Capmany</td>\n",
       "    </tr>\n",
       "  </tbody>\n",
       "</table>\n",
       "</div>"
      ],
      "text/plain": [
       "    type line          name                    exit\n",
       "0  METRO   L1  SANTA COLOMA                     NaN\n",
       "1  METRO   L1  SANTA COLOMA                     NaN\n",
       "2  METRO   L1       MARINA            Av. Meridiana\n",
       "3  METRO   L1         FONDO                     NaN\n",
       "4  METRO   L1   MERCAT NOU   C. d'Antoni de Capmany"
      ]
     },
     "execution_count": 35,
     "metadata": {},
     "output_type": "execute_result"
    }
   ],
   "source": [
    "equipament = df.EQUIPAMENT.str.extract(\n",
    "    r\"\"\"\\s*(?P<type>.*)\\s\n",
    "    \\((?P<line>.*)\\)\n",
    "    \\s+-\\s+\n",
    "    (?P<name>[^(-]+)\\s*\n",
    "    (?:\\((?P<exit>.*?)\\))?\n",
    "    .*?\n",
    "    \"\"\",\n",
    "    flags=re.VERBOSE, \n",
    "    expand=True\n",
    ")\n",
    "\n",
    "equipament.head()"
   ]
  },
  {
   "cell_type": "code",
   "execution_count": 36,
   "metadata": {
    "collapsed": true
   },
   "outputs": [],
   "source": [
    "# Add equipment to df\n",
    "df = pd.concat([df, equipament], axis=1)\n",
    "df = df.drop(['EQUIPAMENT'], axis=1)"
   ]
  },
  {
   "cell_type": "code",
   "execution_count": 37,
   "metadata": {
    "collapsed": false
   },
   "outputs": [],
   "source": [
    "df.type = df.type.str.title()\n",
    "df.name = df.name.str.title()"
   ]
  },
  {
   "cell_type": "code",
   "execution_count": 38,
   "metadata": {
    "collapsed": false
   },
   "outputs": [],
   "source": [
    "df = df.rename(\n",
    "    columns={\n",
    "        'LATITUD': 'latitude',\n",
    "        'LONGITUD': 'longitude',\n",
    "        'DISTRICTE': 'district_id',\n",
    "        'BARRI': 'neighborhood_id',\n",
    "        'NOM_DISTRICTE': 'district',\n",
    "        'NOM_BARRI': 'neighborhood',\n",
    "    }\n",
    ")[['type', 'line', 'name', 'exit', 'latitude', 'longitude', 'district', 'neighborhood']]"
   ]
  },
  {
   "cell_type": "code",
   "execution_count": 39,
   "metadata": {
    "collapsed": false
   },
   "outputs": [],
   "source": [
    "df.neighborhood = df.neighborhood.str.title()"
   ]
  },
  {
   "cell_type": "code",
   "execution_count": 40,
   "metadata": {
    "collapsed": false
   },
   "outputs": [
    {
     "data": {
      "text/html": [
       "<div>\n",
       "<table border=\"1\" class=\"dataframe\">\n",
       "  <thead>\n",
       "    <tr style=\"text-align: right;\">\n",
       "      <th></th>\n",
       "      <th>type</th>\n",
       "      <th>line</th>\n",
       "      <th>name</th>\n",
       "      <th>exit</th>\n",
       "      <th>latitude</th>\n",
       "      <th>longitude</th>\n",
       "      <th>district</th>\n",
       "      <th>neighborhood</th>\n",
       "    </tr>\n",
       "  </thead>\n",
       "  <tbody>\n",
       "    <tr>\n",
       "      <th>0</th>\n",
       "      <td>Metro</td>\n",
       "      <td>L1</td>\n",
       "      <td>Santa Coloma</td>\n",
       "      <td>NaN</td>\n",
       "      <td>2.207988</td>\n",
       "      <td>41.451908</td>\n",
       "      <td>NaN</td>\n",
       "      <td>NaN</td>\n",
       "    </tr>\n",
       "    <tr>\n",
       "      <th>1</th>\n",
       "      <td>Metro</td>\n",
       "      <td>L1</td>\n",
       "      <td>Santa Coloma</td>\n",
       "      <td>NaN</td>\n",
       "      <td>2.208350</td>\n",
       "      <td>41.451604</td>\n",
       "      <td>NaN</td>\n",
       "      <td>NaN</td>\n",
       "    </tr>\n",
       "    <tr>\n",
       "      <th>2</th>\n",
       "      <td>Metro</td>\n",
       "      <td>L1</td>\n",
       "      <td>Marina</td>\n",
       "      <td>Av. Meridiana</td>\n",
       "      <td>2.186428</td>\n",
       "      <td>41.395580</td>\n",
       "      <td>Eixample</td>\n",
       "      <td>El Fort Pienc</td>\n",
       "    </tr>\n",
       "    <tr>\n",
       "      <th>3</th>\n",
       "      <td>Metro</td>\n",
       "      <td>L1</td>\n",
       "      <td>Fondo</td>\n",
       "      <td>NaN</td>\n",
       "      <td>2.217787</td>\n",
       "      <td>41.451728</td>\n",
       "      <td>NaN</td>\n",
       "      <td>NaN</td>\n",
       "    </tr>\n",
       "    <tr>\n",
       "      <th>4</th>\n",
       "      <td>Metro</td>\n",
       "      <td>L1</td>\n",
       "      <td>Mercat Nou</td>\n",
       "      <td>C. d'Antoni de Capmany</td>\n",
       "      <td>2.133190</td>\n",
       "      <td>41.373293</td>\n",
       "      <td>Sants-Montjuïc</td>\n",
       "      <td>Sants</td>\n",
       "    </tr>\n",
       "  </tbody>\n",
       "</table>\n",
       "</div>"
      ],
      "text/plain": [
       "    type line          name                    exit  latitude  longitude  \\\n",
       "0  Metro   L1  Santa Coloma                     NaN  2.207988  41.451908   \n",
       "1  Metro   L1  Santa Coloma                     NaN  2.208350  41.451604   \n",
       "2  Metro   L1       Marina            Av. Meridiana  2.186428  41.395580   \n",
       "3  Metro   L1         Fondo                     NaN  2.217787  41.451728   \n",
       "4  Metro   L1   Mercat Nou   C. d'Antoni de Capmany  2.133190  41.373293   \n",
       "\n",
       "         district   neighborhood  \n",
       "0             NaN            NaN  \n",
       "1             NaN            NaN  \n",
       "2        Eixample  El Fort Pienc  \n",
       "3             NaN            NaN  \n",
       "4  Sants-Montjuïc          Sants  "
      ]
     },
     "execution_count": 40,
     "metadata": {},
     "output_type": "execute_result"
    }
   ],
   "source": [
    "df.head()"
   ]
  },
  {
   "cell_type": "code",
   "execution_count": 41,
   "metadata": {
    "collapsed": true
   },
   "outputs": [],
   "source": [
    "# latitude and longitude are inverted!\n",
    "df.latitude, df.longitude = df.longitude.copy(), df.latitude.copy()"
   ]
  },
  {
   "cell_type": "code",
   "execution_count": 42,
   "metadata": {
    "collapsed": false
   },
   "outputs": [
    {
     "data": {
      "text/html": [
       "<div>\n",
       "<table border=\"1\" class=\"dataframe\">\n",
       "  <thead>\n",
       "    <tr style=\"text-align: right;\">\n",
       "      <th></th>\n",
       "      <th>type</th>\n",
       "      <th>line</th>\n",
       "      <th>name</th>\n",
       "      <th>exit</th>\n",
       "      <th>latitude</th>\n",
       "      <th>longitude</th>\n",
       "      <th>district</th>\n",
       "      <th>neighborhood</th>\n",
       "    </tr>\n",
       "  </thead>\n",
       "  <tbody>\n",
       "    <tr>\n",
       "      <th>0</th>\n",
       "      <td>Metro</td>\n",
       "      <td>L1</td>\n",
       "      <td>Santa Coloma</td>\n",
       "      <td>NaN</td>\n",
       "      <td>41.451908</td>\n",
       "      <td>2.207988</td>\n",
       "      <td>NaN</td>\n",
       "      <td>NaN</td>\n",
       "    </tr>\n",
       "    <tr>\n",
       "      <th>1</th>\n",
       "      <td>Metro</td>\n",
       "      <td>L1</td>\n",
       "      <td>Santa Coloma</td>\n",
       "      <td>NaN</td>\n",
       "      <td>41.451604</td>\n",
       "      <td>2.208350</td>\n",
       "      <td>NaN</td>\n",
       "      <td>NaN</td>\n",
       "    </tr>\n",
       "    <tr>\n",
       "      <th>2</th>\n",
       "      <td>Metro</td>\n",
       "      <td>L1</td>\n",
       "      <td>Marina</td>\n",
       "      <td>Av. Meridiana</td>\n",
       "      <td>41.395580</td>\n",
       "      <td>2.186428</td>\n",
       "      <td>Eixample</td>\n",
       "      <td>El Fort Pienc</td>\n",
       "    </tr>\n",
       "    <tr>\n",
       "      <th>3</th>\n",
       "      <td>Metro</td>\n",
       "      <td>L1</td>\n",
       "      <td>Fondo</td>\n",
       "      <td>NaN</td>\n",
       "      <td>41.451728</td>\n",
       "      <td>2.217787</td>\n",
       "      <td>NaN</td>\n",
       "      <td>NaN</td>\n",
       "    </tr>\n",
       "    <tr>\n",
       "      <th>4</th>\n",
       "      <td>Metro</td>\n",
       "      <td>L1</td>\n",
       "      <td>Mercat Nou</td>\n",
       "      <td>C. d'Antoni de Capmany</td>\n",
       "      <td>41.373293</td>\n",
       "      <td>2.133190</td>\n",
       "      <td>Sants-Montjuïc</td>\n",
       "      <td>Sants</td>\n",
       "    </tr>\n",
       "  </tbody>\n",
       "</table>\n",
       "</div>"
      ],
      "text/plain": [
       "    type line          name                    exit   latitude  longitude  \\\n",
       "0  Metro   L1  Santa Coloma                     NaN  41.451908   2.207988   \n",
       "1  Metro   L1  Santa Coloma                     NaN  41.451604   2.208350   \n",
       "2  Metro   L1       Marina            Av. Meridiana  41.395580   2.186428   \n",
       "3  Metro   L1         Fondo                     NaN  41.451728   2.217787   \n",
       "4  Metro   L1   Mercat Nou   C. d'Antoni de Capmany  41.373293   2.133190   \n",
       "\n",
       "         district   neighborhood  \n",
       "0             NaN            NaN  \n",
       "1             NaN            NaN  \n",
       "2        Eixample  El Fort Pienc  \n",
       "3             NaN            NaN  \n",
       "4  Sants-Montjuïc          Sants  "
      ]
     },
     "execution_count": 42,
     "metadata": {},
     "output_type": "execute_result"
    }
   ],
   "source": [
    "df.head()"
   ]
  },
  {
   "cell_type": "code",
   "execution_count": 43,
   "metadata": {
    "collapsed": true
   },
   "outputs": [],
   "source": [
    "df.reset_index().to_csv(path('data/transports_preprocessed.csv'), index=False)"
   ]
  }
 ],
 "metadata": {
  "anaconda-cloud": {},
  "kernelspec": {
   "display_name": "Python [Root]",
   "language": "python",
   "name": "Python [Root]"
  },
  "language_info": {
   "codemirror_mode": {
    "name": "ipython",
    "version": 3
   },
   "file_extension": ".py",
   "mimetype": "text/x-python",
   "name": "python",
   "nbconvert_exporter": "python",
   "pygments_lexer": "ipython3",
   "version": "3.5.2"
  }
 },
 "nbformat": 4,
 "nbformat_minor": 0
}
