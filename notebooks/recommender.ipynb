{
 "cells": [
  {
   "cell_type": "code",
   "execution_count": 1,
   "metadata": {
    "collapsed": true
   },
   "outputs": [],
   "source": [
    "from domino.utils.jupyter import notebook_init\n",
    "notebook_init()"
   ]
  },
  {
   "cell_type": "code",
   "execution_count": 2,
   "metadata": {
    "collapsed": true
   },
   "outputs": [],
   "source": [
    "import os.path\n",
    "import re\n",
    "\n",
    "import pandas as pd\n",
    "np = pd.np\n",
    "\n",
    "% matplotlib inline\n",
    "import matplotlib.pyplot as plt\n",
    "import seaborn as sns"
   ]
  },
  {
   "cell_type": "code",
   "execution_count": 3,
   "metadata": {
    "collapsed": true
   },
   "outputs": [],
   "source": [
    "path = lambda filename, sep='/': os.path.join(*filename.split(sep))"
   ]
  },
  {
   "cell_type": "code",
   "execution_count": 4,
   "metadata": {
    "collapsed": true
   },
   "outputs": [],
   "source": [
    "ratings = pd.read_csv(path('data/ratings-matrix.csv'))"
   ]
  },
  {
   "cell_type": "code",
   "execution_count": 5,
   "metadata": {
    "collapsed": false
   },
   "outputs": [
    {
     "data": {
      "text/html": [
       "<div>\n",
       "<table border=\"1\" class=\"dataframe\">\n",
       "  <thead>\n",
       "    <tr style=\"text-align: right;\">\n",
       "      <th></th>\n",
       "      <th>user</th>\n",
       "      <th>restaurant</th>\n",
       "      <th>rating</th>\n",
       "    </tr>\n",
       "  </thead>\n",
       "  <tbody>\n",
       "    <tr>\n",
       "      <th>0</th>\n",
       "      <td>http://schema.org/resource/UID_DA1B2081FC9049D...</td>\n",
       "      <td>http://schema.org/resource/eatery_997678</td>\n",
       "      <td>5</td>\n",
       "    </tr>\n",
       "    <tr>\n",
       "      <th>1</th>\n",
       "      <td>http://schema.org/resource/UID_BEFC285B7F08B09...</td>\n",
       "      <td>http://schema.org/resource/eatery_1966404</td>\n",
       "      <td>5</td>\n",
       "    </tr>\n",
       "    <tr>\n",
       "      <th>2</th>\n",
       "      <td>http://schema.org/resource/UID_520F77291D513D5...</td>\n",
       "      <td>http://schema.org/resource/eatery_717364</td>\n",
       "      <td>3</td>\n",
       "    </tr>\n",
       "    <tr>\n",
       "      <th>3</th>\n",
       "      <td>http://schema.org/resource/UID_C2D157D8CE6AA2E...</td>\n",
       "      <td>http://schema.org/resource/eatery_931622</td>\n",
       "      <td>5</td>\n",
       "    </tr>\n",
       "    <tr>\n",
       "      <th>4</th>\n",
       "      <td>http://schema.org/resource/UID_F604743AFCC6E45...</td>\n",
       "      <td>http://schema.org/resource/eatery_2054462</td>\n",
       "      <td>4</td>\n",
       "    </tr>\n",
       "  </tbody>\n",
       "</table>\n",
       "</div>"
      ],
      "text/plain": [
       "                                                user  \\\n",
       "0  http://schema.org/resource/UID_DA1B2081FC9049D...   \n",
       "1  http://schema.org/resource/UID_BEFC285B7F08B09...   \n",
       "2  http://schema.org/resource/UID_520F77291D513D5...   \n",
       "3  http://schema.org/resource/UID_C2D157D8CE6AA2E...   \n",
       "4  http://schema.org/resource/UID_F604743AFCC6E45...   \n",
       "\n",
       "                                  restaurant  rating  \n",
       "0   http://schema.org/resource/eatery_997678       5  \n",
       "1  http://schema.org/resource/eatery_1966404       5  \n",
       "2   http://schema.org/resource/eatery_717364       3  \n",
       "3   http://schema.org/resource/eatery_931622       5  \n",
       "4  http://schema.org/resource/eatery_2054462       4  "
      ]
     },
     "execution_count": 5,
     "metadata": {},
     "output_type": "execute_result"
    }
   ],
   "source": [
    "ratings.head()"
   ]
  },
  {
   "cell_type": "code",
   "execution_count": 6,
   "metadata": {
    "collapsed": false
   },
   "outputs": [
    {
     "data": {
      "text/plain": [
       "(511753, 3)"
      ]
     },
     "execution_count": 6,
     "metadata": {},
     "output_type": "execute_result"
    }
   ],
   "source": [
    "ratings.shape"
   ]
  },
  {
   "cell_type": "code",
   "execution_count": 7,
   "metadata": {
    "collapsed": false
   },
   "outputs": [
    {
     "data": {
      "text/plain": [
       "user          301350\n",
       "restaurant      7029\n",
       "rating             5\n",
       "dtype: int64"
      ]
     },
     "execution_count": 7,
     "metadata": {},
     "output_type": "execute_result"
    }
   ],
   "source": [
    "ratings.apply(lambda x: len(x.unique()))"
   ]
  },
  {
   "cell_type": "code",
   "execution_count": 8,
   "metadata": {
    "collapsed": true
   },
   "outputs": [],
   "source": [
    "user_counts = ratings.groupby('user').size()"
   ]
  },
  {
   "cell_type": "code",
   "execution_count": 9,
   "metadata": {
    "collapsed": false
   },
   "outputs": [
    {
     "data": {
      "text/plain": [
       "1     207872\n",
       "2      52311\n",
       "3      19558\n",
       "4       8914\n",
       "5       4375\n",
       "6       2448\n",
       "7       1506\n",
       "8       1028\n",
       "9        691\n",
       "10       526\n",
       "11       367\n",
       "12       298\n",
       "13       233\n",
       "14       186\n",
       "15       150\n",
       "16       117\n",
       "17        86\n",
       "18       100\n",
       "19        70\n",
       "20        54\n",
       "dtype: int64"
      ]
     },
     "execution_count": 9,
     "metadata": {},
     "output_type": "execute_result"
    }
   ],
   "source": [
    "user_counts.groupby(user_counts).size().head(20)"
   ]
  },
  {
   "cell_type": "markdown",
   "metadata": {},
   "source": [
    "To avoid dealing with the cold-start problem, we'll only consider users with at least 10 reviews"
   ]
  },
  {
   "cell_type": "code",
   "execution_count": 10,
   "metadata": {
    "collapsed": true
   },
   "outputs": [],
   "source": [
    "ratings = ratings[ratings.user.isin(set(user_counts[user_counts >= 10].index))].copy()"
   ]
  },
  {
   "cell_type": "code",
   "execution_count": 11,
   "metadata": {
    "collapsed": false
   },
   "outputs": [
    {
     "data": {
      "text/plain": [
       "(43381, 3)"
      ]
     },
     "execution_count": 11,
     "metadata": {},
     "output_type": "execute_result"
    }
   ],
   "source": [
    "ratings.shape"
   ]
  },
  {
   "cell_type": "code",
   "execution_count": 12,
   "metadata": {
    "collapsed": true
   },
   "outputs": [],
   "source": [
    "restaurant_counts = ratings.groupby('restaurant').size()"
   ]
  },
  {
   "cell_type": "code",
   "execution_count": 13,
   "metadata": {
    "collapsed": false
   },
   "outputs": [
    {
     "data": {
      "text/plain": [
       "1     1227\n",
       "2      687\n",
       "3      420\n",
       "4      323\n",
       "5      267\n",
       "6      181\n",
       "7      175\n",
       "8      136\n",
       "9      111\n",
       "10     103\n",
       "11      80\n",
       "12      79\n",
       "13      78\n",
       "14      59\n",
       "15      54\n",
       "16      50\n",
       "17      49\n",
       "18      46\n",
       "19      37\n",
       "20      31\n",
       "dtype: int64"
      ]
     },
     "execution_count": 13,
     "metadata": {},
     "output_type": "execute_result"
    }
   ],
   "source": [
    "restaurant_counts.groupby(restaurant_counts).size().head(20)"
   ]
  },
  {
   "cell_type": "markdown",
   "metadata": {},
   "source": [
    "Again, to avoid the cold-start problem with the restaurants, let's keep only those restaurants with at least 10 reviews"
   ]
  },
  {
   "cell_type": "code",
   "execution_count": 14,
   "metadata": {
    "collapsed": true
   },
   "outputs": [],
   "source": [
    "ratings = ratings[\n",
    "    ratings.restaurant.isin(\n",
    "        set(restaurant_counts[restaurant_counts >= 10].index)\n",
    "    )\n",
    "].copy()"
   ]
  },
  {
   "cell_type": "code",
   "execution_count": 15,
   "metadata": {
    "collapsed": false
   },
   "outputs": [
    {
     "data": {
      "text/plain": [
       "(32495, 3)"
      ]
     },
     "execution_count": 15,
     "metadata": {},
     "output_type": "execute_result"
    }
   ],
   "source": [
    "ratings.shape"
   ]
  },
  {
   "cell_type": "code",
   "execution_count": 16,
   "metadata": {
    "collapsed": false
   },
   "outputs": [
    {
     "data": {
      "text/plain": [
       "user          2643\n",
       "restaurant    1227\n",
       "rating           5\n",
       "dtype: int64"
      ]
     },
     "execution_count": 16,
     "metadata": {},
     "output_type": "execute_result"
    }
   ],
   "source": [
    "ratings.apply(lambda x: len(x.unique()))"
   ]
  },
  {
   "cell_type": "code",
   "execution_count": 17,
   "metadata": {
    "collapsed": true
   },
   "outputs": [],
   "source": [
    "ratings = ratings.pivot_table(index='user', columns='restaurant', values='rating', aggfunc='mean')"
   ]
  },
  {
   "cell_type": "code",
   "execution_count": 18,
   "metadata": {
    "collapsed": false
   },
   "outputs": [
    {
     "data": {
      "text/plain": [
       "(2643, 1227)"
      ]
     },
     "execution_count": 18,
     "metadata": {},
     "output_type": "execute_result"
    }
   ],
   "source": [
    "nusers, nitems = ratings.shape\n",
    "nusers, nitems"
   ]
  },
  {
   "cell_type": "code",
   "execution_count": 19,
   "metadata": {
    "collapsed": false
   },
   "outputs": [],
   "source": [
    "X = ratings.values.copy()\n",
    "\n",
    "means = np.nanmean(X, axis=1)\n",
    "X -= means.reshape((nusers, 1))\n",
    "\n",
    "stds = np.nanstd(X, axis=1)\n",
    "X /= stds.reshape((nusers, 1))\n",
    "\n",
    "voted = ~np.isnan(X)"
   ]
  },
  {
   "cell_type": "code",
   "execution_count": 20,
   "metadata": {
    "collapsed": true
   },
   "outputs": [],
   "source": [
    "def intersection(n1):\n",
    "    return [\n",
    "        np.arange(nitems)[\n",
    "            (voted[n1,] * voted[n2,]) > 0\n",
    "        ]\n",
    "        \n",
    "        for n2 in range(nusers)\n",
    "    ]\n",
    "\n",
    "def similarities(n1):\n",
    "    res = []\n",
    "    \n",
    "    for n2, i in zip(range(nusers), intersection(n1)):\n",
    "        u1, u2 = X[n1, i], X[n2, i]\n",
    "        \n",
    "        res.append(\n",
    "            u1.dot(u2) / np.sqrt(u1.dot(u1) * u1.dot(u2))\n",
    "        )\n",
    "        \n",
    "    return np.array(res)"
   ]
  },
  {
   "cell_type": "code",
   "execution_count": 21,
   "metadata": {
    "collapsed": false
   },
   "outputs": [
    {
     "data": {
      "text/plain": [
       "array([3, 4, 3, ..., 1, 4, 4])"
      ]
     },
     "execution_count": 21,
     "metadata": {},
     "output_type": "execute_result"
    }
   ],
   "source": [
    "def prediction(u1, K=10):\n",
    "    sims = np.nan_to_num(similarities(u1))\n",
    "    predictions = []\n",
    "    \n",
    "    for item in range(nitems):\n",
    "        if voted[u1, item]: \n",
    "            predictions.append(X[u1, item])\n",
    "            continue\n",
    "        \n",
    "        votes = voted[:, item]\n",
    "        \n",
    "        ratings = X[votes, item]\n",
    "        users = np.arange(nusers)[votes]\n",
    "        sims_f = sims[votes]\n",
    "        \n",
    "        neighs = (sims_f ** 2).argsort()[-K:]\n",
    "        pred = sims_f[neighs].dot(ratings[neighs]) / np.abs(sims_f[neighs]).sum()\n",
    "        \n",
    "        predictions.append(pred)\n",
    "        \n",
    "    pred = np.array(predictions)\n",
    "    pred = (pred * stds[u1] + means[u1]).round().astype(int)\n",
    "    \n",
    "    pred = np.where(pred < 1, 1, pred)\n",
    "    pred = np.where(pred > 5, 5, pred)\n",
    "    \n",
    "    return pred\n",
    "\n",
    "pred = prediction(0)\n",
    "\n",
    "pred"
   ]
  }
 ],
 "metadata": {
  "kernelspec": {
   "display_name": "Python [Root]",
   "language": "python",
   "name": "Python [Root]"
  },
  "language_info": {
   "codemirror_mode": {
    "name": "ipython",
    "version": 3
   },
   "file_extension": ".py",
   "mimetype": "text/x-python",
   "name": "python",
   "nbconvert_exporter": "python",
   "pygments_lexer": "ipython3",
   "version": "3.5.2"
  }
 },
 "nbformat": 4,
 "nbformat_minor": 0
}
